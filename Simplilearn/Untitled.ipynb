{
 "cells": [
  {
   "cell_type": "code",
   "execution_count": 1,
   "id": "96920331",
   "metadata": {},
   "outputs": [
    {
     "data": {
      "text/plain": [
       "int"
      ]
     },
     "execution_count": 1,
     "metadata": {},
     "output_type": "execute_result"
    }
   ],
   "source": [
    "num=5\n",
    "type(num)"
   ]
  },
  {
   "cell_type": "code",
   "execution_count": 2,
   "id": "b1a96cfe",
   "metadata": {},
   "outputs": [
    {
     "data": {
      "text/plain": [
       "int"
      ]
     },
     "execution_count": 2,
     "metadata": {},
     "output_type": "execute_result"
    }
   ],
   "source": [
    "num=2354345434\n",
    "type(num)"
   ]
  },
  {
   "cell_type": "code",
   "execution_count": 3,
   "id": "aab11062",
   "metadata": {},
   "outputs": [
    {
     "data": {
      "text/plain": [
       "float"
      ]
     },
     "execution_count": 3,
     "metadata": {},
     "output_type": "execute_result"
    }
   ],
   "source": [
    "num=5.4\n",
    "type(num)"
   ]
  },
  {
   "cell_type": "code",
   "execution_count": 4,
   "id": "59989dab",
   "metadata": {},
   "outputs": [
    {
     "data": {
      "text/plain": [
       "complex"
      ]
     },
     "execution_count": 4,
     "metadata": {},
     "output_type": "execute_result"
    }
   ],
   "source": [
    "num=2+5j\n",
    "type(num)"
   ]
  },
  {
   "cell_type": "code",
   "execution_count": 5,
   "id": "4fa201d5",
   "metadata": {},
   "outputs": [
    {
     "data": {
      "text/plain": [
       "2.0"
      ]
     },
     "execution_count": 5,
     "metadata": {},
     "output_type": "execute_result"
    }
   ],
   "source": [
    "num.real"
   ]
  },
  {
   "cell_type": "code",
   "execution_count": 6,
   "id": "0fee9fb7",
   "metadata": {},
   "outputs": [
    {
     "data": {
      "text/plain": [
       "5.0"
      ]
     },
     "execution_count": 6,
     "metadata": {},
     "output_type": "execute_result"
    }
   ],
   "source": [
    "num.imag"
   ]
  },
  {
   "cell_type": "code",
   "execution_count": 7,
   "id": "a5fbde4b",
   "metadata": {},
   "outputs": [
    {
     "data": {
      "text/plain": [
       "-567.5454"
      ]
     },
     "execution_count": 7,
     "metadata": {},
     "output_type": "execute_result"
    }
   ],
   "source": [
    "num=-567.5454\n",
    "num"
   ]
  },
  {
   "cell_type": "code",
   "execution_count": 8,
   "id": "b4a9709d",
   "metadata": {},
   "outputs": [],
   "source": [
    "num1=10\n",
    "num2=2"
   ]
  },
  {
   "cell_type": "code",
   "execution_count": 9,
   "id": "ff84b473",
   "metadata": {},
   "outputs": [
    {
     "name": "stdout",
     "output_type": "stream",
     "text": [
      "12\n"
     ]
    }
   ],
   "source": [
    "print(num1+num2)"
   ]
  },
  {
   "cell_type": "code",
   "execution_count": 10,
   "id": "5187157d",
   "metadata": {},
   "outputs": [
    {
     "name": "stdout",
     "output_type": "stream",
     "text": [
      "8\n"
     ]
    }
   ],
   "source": [
    "print(num1-num2)"
   ]
  },
  {
   "cell_type": "code",
   "execution_count": 11,
   "id": "c14144b0",
   "metadata": {},
   "outputs": [
    {
     "name": "stdout",
     "output_type": "stream",
     "text": [
      "20\n"
     ]
    }
   ],
   "source": [
    "print(num1*num2)"
   ]
  },
  {
   "cell_type": "code",
   "execution_count": 12,
   "id": "88852257",
   "metadata": {},
   "outputs": [
    {
     "name": "stdout",
     "output_type": "stream",
     "text": [
      "5.0\n"
     ]
    }
   ],
   "source": [
    "print(num1/num2)"
   ]
  },
  {
   "cell_type": "code",
   "execution_count": 13,
   "id": "e9d18aa3",
   "metadata": {},
   "outputs": [
    {
     "name": "stdout",
     "output_type": "stream",
     "text": [
      "3.3333333333333335\n"
     ]
    }
   ],
   "source": [
    "print(10/3)"
   ]
  },
  {
   "cell_type": "code",
   "execution_count": 14,
   "id": "dfcf403e",
   "metadata": {},
   "outputs": [
    {
     "name": "stdout",
     "output_type": "stream",
     "text": [
      "3\n"
     ]
    }
   ],
   "source": [
    "print(10//3)"
   ]
  },
  {
   "cell_type": "code",
   "execution_count": 15,
   "id": "fcd96590",
   "metadata": {},
   "outputs": [
    {
     "name": "stdout",
     "output_type": "stream",
     "text": [
      "100\n"
     ]
    }
   ],
   "source": [
    "print(num1**num2)"
   ]
  },
  {
   "cell_type": "code",
   "execution_count": 17,
   "id": "101c9344",
   "metadata": {},
   "outputs": [
    {
     "name": "stdout",
     "output_type": "stream",
     "text": [
      "0\n"
     ]
    }
   ],
   "source": [
    "print(num1%num2)"
   ]
  },
  {
   "cell_type": "code",
   "execution_count": 18,
   "id": "edf63e00",
   "metadata": {},
   "outputs": [
    {
     "name": "stdout",
     "output_type": "stream",
     "text": [
      "1\n"
     ]
    }
   ],
   "source": [
    "print(10%3)"
   ]
  },
  {
   "cell_type": "markdown",
   "id": "66c03496",
   "metadata": {},
   "source": [
    "# Conversions "
   ]
  },
  {
   "cell_type": "code",
   "execution_count": 19,
   "id": "6e369ca2",
   "metadata": {},
   "outputs": [
    {
     "data": {
      "text/plain": [
       "str"
      ]
     },
     "execution_count": 19,
     "metadata": {},
     "output_type": "execute_result"
    }
   ],
   "source": [
    "x=\"192\"\n",
    "type(x)"
   ]
  },
  {
   "cell_type": "code",
   "execution_count": 20,
   "id": "31ad7619",
   "metadata": {},
   "outputs": [
    {
     "data": {
      "text/plain": [
       "192"
      ]
     },
     "execution_count": 20,
     "metadata": {},
     "output_type": "execute_result"
    }
   ],
   "source": [
    "int(x)"
   ]
  },
  {
   "cell_type": "code",
   "execution_count": 21,
   "id": "72048774",
   "metadata": {},
   "outputs": [],
   "source": [
    "x=int(x)"
   ]
  },
  {
   "cell_type": "code",
   "execution_count": 22,
   "id": "74de2e1b",
   "metadata": {},
   "outputs": [
    {
     "data": {
      "text/plain": [
       "int"
      ]
     },
     "execution_count": 22,
     "metadata": {},
     "output_type": "execute_result"
    }
   ],
   "source": [
    "type(x)"
   ]
  },
  {
   "cell_type": "code",
   "execution_count": 23,
   "id": "798c2cdc",
   "metadata": {},
   "outputs": [],
   "source": [
    "x=float(x)"
   ]
  },
  {
   "cell_type": "code",
   "execution_count": 24,
   "id": "e5df3962",
   "metadata": {},
   "outputs": [
    {
     "name": "stdout",
     "output_type": "stream",
     "text": [
      "192.0\n"
     ]
    }
   ],
   "source": [
    "print(x)"
   ]
  },
  {
   "cell_type": "code",
   "execution_count": 25,
   "id": "b1f5c1ac",
   "metadata": {},
   "outputs": [
    {
     "name": "stdout",
     "output_type": "stream",
     "text": [
      "(192+0j)\n"
     ]
    }
   ],
   "source": [
    "x=complex(x)\n",
    "print(x)"
   ]
  },
  {
   "cell_type": "code",
   "execution_count": 26,
   "id": "b8a26614",
   "metadata": {},
   "outputs": [
    {
     "name": "stdout",
     "output_type": "stream",
     "text": [
      "(2+6j)\n"
     ]
    }
   ],
   "source": [
    "print(complex(2,6))"
   ]
  },
  {
   "cell_type": "markdown",
   "id": "172a0e75",
   "metadata": {},
   "source": [
    "# Functions"
   ]
  },
  {
   "cell_type": "code",
   "execution_count": 27,
   "id": "a219d0be",
   "metadata": {},
   "outputs": [
    {
     "name": "stdout",
     "output_type": "stream",
     "text": [
      "7.5\n"
     ]
    }
   ],
   "source": [
    "x= -7.5\n",
    "print(abs(x))"
   ]
  },
  {
   "cell_type": "code",
   "execution_count": 28,
   "id": "34150f57",
   "metadata": {},
   "outputs": [
    {
     "name": "stdout",
     "output_type": "stream",
     "text": [
      "22026.465794806718\n"
     ]
    }
   ],
   "source": [
    "import math\n",
    "x=10\n",
    "print(math.exp(x))"
   ]
  },
  {
   "cell_type": "code",
   "execution_count": null,
   "id": "1ffa3b29",
   "metadata": {},
   "outputs": [],
   "source": []
  }
 ],
 "metadata": {
  "kernelspec": {
   "display_name": "Python 3 (ipykernel)",
   "language": "python",
   "name": "python3"
  },
  "language_info": {
   "codemirror_mode": {
    "name": "ipython",
    "version": 3
   },
   "file_extension": ".py",
   "mimetype": "text/x-python",
   "name": "python",
   "nbconvert_exporter": "python",
   "pygments_lexer": "ipython3",
   "version": "3.9.7"
  }
 },
 "nbformat": 4,
 "nbformat_minor": 5
}
